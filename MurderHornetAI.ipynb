{
  "nbformat": 4,
  "nbformat_minor": 0,
  "metadata": {
    "colab": {
      "name": "MurderHornetAI.ipynb",
      "provenance": [],
      "collapsed_sections": []
    },
    "kernelspec": {
      "display_name": "Python 3",
      "name": "python3"
    }
  },
  "cells": [
    {
      "cell_type": "code",
      "metadata": {
        "id": "9nodKIJqqs1O"
      },
      "source": [
        "#Press the run button (the circle with the arrow in it)\r\n",
        "#Scroll down\r\n",
        "#Wait for the output to read Upload\r\n",
        "#                           Classify\r\n",
        "#\r\n",
        "#Press upload and go to the image file you wish to classify\r\n",
        "#Press classify\r\n",
        "#Wait until it has been sorted and check the results!\r\n",
        "!wget 'https://www.dropbox.com/s/ivuiy5pekyndk81/export.pkl?dl=0' && mv 'export.pkl?dl=0' 'export.pkl' && rm 'export.pkl?dl=0.1'\r\n",
        "try:\r\n",
        "  import fastbook\r\n",
        "  #fastbook.setup_book()\r\n",
        "  import fastai\r\n",
        "except:\r\n",
        "  !pip install -Uqq fastbook fastai\r\n",
        "  import fastai\r\n",
        "  from fastai.vision.all import *\r\n",
        "  import fastbook\r\n",
        "  #fastbook.setup_book()\r\n",
        "print(\r\n",
        "    \"         ^           --------- \\n\"\r\n",
        "    \"        / \\              |     \\n\"\r\n",
        "    \"       /   \\             |     \\n\"\r\n",
        "    \"      /     \\            |     \\n\"\r\n",
        "    \"     /-------\\           |     \\n\"\r\n",
        "    \"    /         \\          |     \\n\"\r\n",
        "    \"   /           \\     --------- \\n\\n\\n\"\r\n",
        "    \"          By Quinn I            \")\r\n",
        "from fastbook import *\r\n",
        "from fastai.vision.all import *\r\n",
        "fastbook.setup_book()\r\n",
        "path = Path('./')\r\n",
        "from fastai.vision.widgets import *\r\n",
        "btn_upload = widgets.FileUpload()\r\n",
        "out_pl = widgets.Output()\r\n",
        "lbl_pred = widgets.Label()\r\n",
        "btn_run = widgets.Button(description='Classify')\r\n",
        "def on_click_classify(change):\r\n",
        "  img = PILImage.create(btn_upload.data[-1])\r\n",
        "  out_pl.clear_output()\r\n",
        "  with out_pl: display(img.to_thumb(128,128))\r\n",
        "  pred,pred_idx,probs = learn_inf.predict(img)\r\n",
        "  #lbl_pred.value = f'Prediction: {pred}; Probability: {probs[pred_idx]:.04f}'\r\n",
        "  if f'Prediction: {pred}' == 'Prediction: MurderHornet':\r\n",
        "    prob = f'{probs[pred_idx]:.04f}'\r\n",
        "    prob = float(prob)\r\n",
        "    if prob >= 0.85:\r\n",
        "      print('IT IS A HORNET')\r\n",
        "  else:\r\n",
        "    print(f\"Classified as {pred} with {probs[pred_idx]:.04f} confidence (out of one)\")\r\n",
        "learn_inf = load_learner(path/'export.pkl')\r\n",
        "btn_run.on_click(on_click_classify)\r\n",
        "btn_upload = widgets.FileUpload()\r\n",
        "out_pl = widgets.Output()\r\n",
        "lbl_pred = widgets.Label()\r\n",
        "print('\\n\\n\\nSelect an image')\r\n",
        "VBox([widgets.Label(''),btn_upload, btn_run, out_pl, lbl_pred])"
      ],
      "execution_count": null,
      "outputs": []
    }
  ]
}