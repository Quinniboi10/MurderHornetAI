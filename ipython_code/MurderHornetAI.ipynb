{
  "nbformat": 4,
  "nbformat_minor": 0,
  "metadata": {
    "colab": {
      "name": "MurderHornetAI.ipynb",
      "provenance": [],
      "collapsed_sections": []
    },
    "kernelspec": {
      "display_name": "Python 3",
      "name": "python3"
    }
  },
  "cells": [
    {
      "cell_type": "code",
      "metadata": {
        "id": "9nodKIJqqs1O"
      },
      "source": [
        "import time\n",
        "try:\n",
        "  from IPython.display import clear_output\n",
        "  import fastbook\n",
        "  #fastbook.setup_book()\n",
        "  import fastai\n",
        "  from fastai.vision.widgets import *\n",
        "except:\n",
        "  !pip install ipython\n",
        "  !pip install -Uqq IPython\n",
        "  !pip install -Uqq pytorch torch\n",
        "  !pip install -Uqq fastai\n",
        "  !pip install -Uqq fastbook\n",
        "  import fastai\n",
        "  from fastai.vision.all import *\n",
        "  import fastbook\n",
        "  from fastai.vision.widgets import *\n",
        "  !wget 'https://www.dropbox.com/s/ivuiy5pekyndk81/export.pkl?dl=0' && mv 'export.pkl?dl=0' 'export.pkl'\n",
        "  #fastbook.setup_book()\n",
        "clear_output()\n",
        "print(\n",
        "    \"       ^           --------- \\n\"\n",
        "    \"      / \\              |     \\n\"\n",
        "    \"     /   \\             |     \\n\"\n",
        "    \"    /     \\            |     \\n\"\n",
        "    \"   /-------\\           |     \\n\"\n",
        "    \"  /         \\          |     \\n\"\n",
        "    \" /           \\     --------- \\n\\n\\n\"\n",
        "    \"        Save The Bees            \")\n",
        "path = Path('./')\n",
        "btn_upload = widgets.FileUpload()\n",
        "out_pl = widgets.Output()\n",
        "lbl_pred = widgets.Label()\n",
        "btn_run = widgets.Button(description='Classify')\n",
        "def on_click_classify(change):\n",
        "  img = PILImage.create(btn_upload.data[-1])\n",
        "  out_pl.clear_output()\n",
        "  with out_pl: display(img.to_thumb(128,128))\n",
        "  pred,pred_idx,probs = learn_inf.predict(img)\n",
        "  #lbl_pred.value = f'Prediction: {pred}; Probability: {probs[pred_idx]:.04f}'\n",
        "  prob = f'{probs[pred_idx]:.04f}'\n",
        "  prob = float(prob)*100\n",
        "  if pred == 'Other':\n",
        "    print(\"It is not a Murder Hornet. Thank you for using my AI!\")\n",
        "  elif pred == \"MurderHornet\":\n",
        "    print(f\"Classified as Murder Hornet with {prob}% confidence\")\n",
        "learn_inf = load_learner('export.pkl')\n",
        "btn_run.on_click(on_click_classify)\n",
        "btn_upload = widgets.FileUpload()\n",
        "out_pl = widgets.Output()\n",
        "lbl_pred = widgets.Label()\n",
        "print('\\n\\n\\nSelect an image')\n",
        "VBox([widgets.Label(''),btn_upload, btn_run, out_pl, lbl_pred])"
      ],
      "execution_count": null,
      "outputs": []
    }
  ]
}
