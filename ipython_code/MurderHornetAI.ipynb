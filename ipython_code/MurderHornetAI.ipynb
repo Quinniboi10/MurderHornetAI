{
  "nbformat": 4,
  "nbformat_minor": 0,
  "metadata": {
    "colab": {
      "name": "MurderHornetAI.ipynb",
      "provenance": [],
      "collapsed_sections": [],
      "authorship_tag": "ABX9TyMyfNNTbxoI1XQ+ts5ap/vu",
      "include_colab_link": true
    },
    "kernelspec": {
      "display_name": "Python 3",
      "name": "python3"
    }
  },
  "cells": [
    {
      "cell_type": "markdown",
      "metadata": {
        "id": "view-in-github",
        "colab_type": "text"
      },
      "source": [
        "<a href=\"https://colab.research.google.com/github/Quinniboi10/MurderHornetAI/blob/main/MurderHornetAI.ipynb\" target=\"_parent\"><img src=\"https://colab.research.google.com/assets/colab-badge.svg\" alt=\"Open In Colab\"/></a>"
      ]
    },
    {
      "cell_type": "code",
      "metadata": {
        "id": "9nodKIJqqs1O"
      },
      "source": [
        "!wget 'https://www.dropbox.com/s/ivuiy5pekyndk81/export.pkl?dl=0' && mv 'export.pkl?dl=0' 'export.pkl'\n",
        "try:\n",
        "  from IPython.display import clear_output\n",
        "  import fastbook\n",
        "  #fastbook.setup_book()\n",
        "  import fastai\n",
        "except:\n",
        "  !pip install -Uqq IPython\n",
        "  !pip install -Uqq fastai\n",
        "  !pip install -Uqq fastbook\n",
        "  import fastai\n",
        "  from fastai.vision.all import *\n",
        "  import fastbook\n",
        "  #fastbook.setup_book()\n",
        "clear_output(wait=False)\n",
        "print(\n",
        "    \"         ^           --------- \\n\"\n",
        "    \"        / \\              |     \\n\"\n",
        "    \"       /   \\             |     \\n\"\n",
        "    \"      /     \\            |     \\n\"\n",
        "    \"     /-------\\           |     \\n\"\n",
        "    \"    /         \\          |     \\n\"\n",
        "    \"   /           \\     --------- \\n\\n\\n\"\n",
        "    \"          Save The Bees            \")\n",
        "from fastbook import *\n",
        "from fastai.vision.all import *\n",
        "fastbook.setup_book()\n",
        "path = Path('./')\n",
        "from fastai.vision.widgets import *\n",
        "btn_upload = widgets.FileUpload()\n",
        "out_pl = widgets.Output()\n",
        "lbl_pred = widgets.Label()\n",
        "btn_run = widgets.Button(description='Classify')\n",
        "def on_click_classify(change):\n",
        "  img = PILImage.create(btn_upload.data[-1])\n",
        "  out_pl.clear_output()\n",
        "  with out_pl: display(img.to_thumb(128,128))\n",
        "  pred,pred_idx,probs = learn_inf.predict(img)\n",
        "  #lbl_pred.value = f'Prediction: {pred}; Probability: {probs[pred_idx]:.04f}'\n",
        "  prob = f'{probs[pred_idx]:.04f}'\n",
        "  prob = float(prob)*100\n",
        "  print(f\"Classified as {pred} with {prob}% confidence\")\n",
        "learn_inf = load_learner('export.pkl')\n",
        "btn_run.on_click(on_click_classify)\n",
        "btn_upload = widgets.FileUpload()\n",
        "out_pl = widgets.Output()\n",
        "lbl_pred = widgets.Label()\n",
        "print('\\n\\n\\nSelect an image')\n",
        "VBox([widgets.Label(''),btn_upload, btn_run, out_pl, lbl_pred])"
      ],
      "execution_count": null,
      "outputs": []
    }
  ]
}
